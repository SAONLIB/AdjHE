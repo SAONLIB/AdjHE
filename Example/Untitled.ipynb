{
 "cells": [
  {
   "cell_type": "code",
   "execution_count": 22,
   "id": "d47f6efc",
   "metadata": {},
   "outputs": [
    {
     "data": {
      "text/plain": [
       "(A, I, S, V, Lambda, T)"
      ]
     },
     "execution_count": 22,
     "metadata": {},
     "output_type": "execute_result"
    }
   ],
   "source": [
    "var('yy sigma_g sigma_e sigma_s alpha')\n",
    "var('A I S V Lambda T')"
   ]
  },
  {
   "cell_type": "code",
   "execution_count": 23,
   "id": "657a3ffd",
   "metadata": {},
   "outputs": [],
   "source": [
    "sg,se,ss = sigma_g, sigma_e, sigma_s"
   ]
  },
  {
   "cell_type": "markdown",
   "id": "c61cf78f",
   "metadata": {},
   "source": [
    "Want to minimize the following "
   ]
  },
  {
   "cell_type": "code",
   "execution_count": 24,
   "id": "c518f9de",
   "metadata": {},
   "outputs": [
    {
     "data": {
      "text/html": [
       "<html><script type=\"math/tex; mode=display\">\\newcommand{\\Bold}[1]{\\mathbf{#1}}-\\Lambda \\Lambda^{T} V V^{T} - I \\sigma_{e}^{2} - A \\sigma_{g}^{2} - S \\sigma_{s}^{2} - 2 \\, \\alpha + \\mathit{yy}</script></html>"
      ],
      "text/latex": [
       "$$\\newcommand{\\Bold}[1]{\\mathbf{#1}}-\\Lambda \\Lambda^{T} V V^{T} - I \\sigma_{e}^{2} - A \\sigma_{g}^{2} - S \\sigma_{s}^{2} - 2 \\, \\alpha + \\mathit{yy}$$"
      ],
      "text/plain": [
       "-Lambda*Lambda^T*V*V^T - I*sigma_e^2 - A*sigma_g^2 - S*sigma_s^2 - 2*alpha + yy"
      ]
     },
     "metadata": {},
     "output_type": "display_data"
    }
   ],
   "source": [
    "target = (yy - sg^2 * A - se^2 *I - ss^2 * S - 2 * alpha - V * Lambda * Lambda^T * V^T)\n",
    "show(target)"
   ]
  }
 ],
 "metadata": {
  "kernelspec": {
   "display_name": "SageMath 9.3",
   "language": "sage",
   "name": "sagemath"
  },
  "language_info": {
   "codemirror_mode": {
    "name": "ipython",
    "version": 3
   },
   "file_extension": ".py",
   "mimetype": "text/x-python",
   "name": "python",
   "nbconvert_exporter": "python",
   "pygments_lexer": "ipython3",
   "version": "3.8.11"
  }
 },
 "nbformat": 4,
 "nbformat_minor": 5
}
