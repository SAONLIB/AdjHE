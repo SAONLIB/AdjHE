{
 "cells": [
  {
   "cell_type": "code",
   "execution_count": 48,
   "id": "7b6c6706",
   "metadata": {},
   "outputs": [],
   "source": [
    "# Define random effects\n",
    "var('A S I')\n",
    "X = vector([A, S, I])\n",
    "var('g s e')\n",
    "sigma = vector([g, s, e]).column()\n",
    "\n",
    "# Define PC effects\n",
    "var('pc1 pc2 pc3')\n",
    "P = vector([pc1, pc2, pc3])\n",
    "var('d1 d2 d3')\n",
    "Delta = vector([d1, d2, d3]).column()\n",
    "\n"
   ]
  },
  {
   "cell_type": "code",
   "execution_count": 55,
   "id": "7f07cff1",
   "metadata": {},
   "outputs": [],
   "source": []
  },
  {
   "cell_type": "code",
   "execution_count": 56,
   "id": "d13a738e",
   "metadata": {},
   "outputs": [
    {
     "data": {
      "text/plain": [
       "[a]\n",
       "[s]\n",
       "[i]"
      ]
     },
     "execution_count": 56,
     "metadata": {},
     "output_type": "execute_result"
    }
   ],
   "source": [
    "X"
   ]
  }
 ],
 "metadata": {
  "kernelspec": {
   "display_name": "SageMath 9.3",
   "language": "sage",
   "name": "sagemath"
  },
  "language_info": {
   "codemirror_mode": {
    "name": "ipython",
    "version": 3
   },
   "file_extension": ".py",
   "mimetype": "text/x-python",
   "name": "python",
   "nbconvert_exporter": "python",
   "pygments_lexer": "ipython3",
   "version": "3.8.11"
  }
 },
 "nbformat": 4,
 "nbformat_minor": 5
}
