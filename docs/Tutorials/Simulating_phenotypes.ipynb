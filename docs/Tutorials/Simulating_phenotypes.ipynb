{
 "cells": [
  {
   "cell_type": "markdown",
   "id": "7a68475d-0096-43cc-8b2b-3892bf95129e",
   "metadata": {
    "tags": []
   },
   "source": [
    "Tutorial on simulating a phenotype.\n",
    "\n",
    "First navigate to the base directory for the Basu herit package. If you haven't already you will need to clone this from github using\n",
    "git clone https://github.com/coffm049/Basu_herit"
   ]
  },
  {
   "cell_type": "code",
   "execution_count": 2,
   "id": "8d6e0557-3838-4376-8a73-0a03072c810b",
   "metadata": {
    "tags": []
   },
   "outputs": [],
   "source": [
    "import os\n",
    "os.chdir(\"../..\")\n",
    "import numpy as np\n",
    "from Estimate.simulation_helpers.Sim_generator import pheno_simulator"
   ]
  },
  {
   "cell_type": "markdown",
   "id": "6827ac5d-350f-40a7-95ee-c6c20159e585",
   "metadata": {},
   "source": [
    "# simulate from scratch"
   ]
  },
  {
   "cell_type": "markdown",
   "id": "60a91bb8-97e0-42d7-9765-999c29ca1407",
   "metadata": {},
   "source": [
    "Seed the simulation specifying the number of subjects and snps that will be in the simulation"
   ]
  },
  {
   "cell_type": "code",
   "execution_count": 13,
   "id": "1afbca8d-3890-49fe-9873-b090082c89b1",
   "metadata": {
    "tags": []
   },
   "outputs": [],
   "source": [
    "sim = pheno_simulator(nsubjects= 1000, nSNPs= 1000)"
   ]
  },
  {
   "cell_type": "markdown",
   "id": "ca67e03f-2c3a-4a9f-b82c-84c906ef99d9",
   "metadata": {},
   "source": [
    "At this point you can simulate the phenotype in multiple parts (see the methods when you call help(sim)) or you can simulate it all at once using the full_sim method. Here, we'll simulate a phenotype thats 50% explained by genetics, 25% sites, 25% unmodeled variance with 25 sites and three 5 population clusters."
   ]
  },
  {
   "cell_type": "code",
   "execution_count": 14,
   "id": "8681f96e-12f2-4f21-b4c4-9c2915dacb76",
   "metadata": {
    "tags": []
   },
   "outputs": [],
   "source": [
    "sim.full_sim(sigma = [0.5,0.25,0.25], nsites = 25 , nclusts = 5)"
   ]
  },
  {
   "cell_type": "markdown",
   "id": "8becea2b-c748-4f03-9d6d-86e0ab6e8314",
   "metadata": {},
   "source": [
    "Now we have a dataframe sim.df and a GRM sim.GRM as part of our sim object. The phenotype is stored in the dataframe under column Y. The dataframe also contains the site, and princpal component loadings as well as how much each part of the model contributed to the overall phenotype (\"Site_contrib\", \"Gene_contrib\", \"error_contrib\")"
   ]
  },
  {
   "cell_type": "markdown",
   "id": "d0fb2cd6-c8c2-42f1-942a-baff21b82607",
   "metadata": {
    "tags": []
   },
   "source": [
    "# Simulate from plink file (.bed.bim.bam)"
   ]
  },
  {
   "cell_type": "markdown",
   "id": "b5da5b56-f83b-490d-b20f-b06061d76447",
   "metadata": {
    "tags": []
   },
   "source": [
    "Load in the genotype using the Plink prefix. Here we have an example accessible in the Basu herit toolbox"
   ]
  },
  {
   "cell_type": "code",
   "execution_count": 3,
   "id": "bf6e542f-b2e8-4122-8098-39d913cf7a30",
   "metadata": {
    "tags": []
   },
   "outputs": [
    {
     "name": "stderr",
     "output_type": "stream",
     "text": [
      "Mapping files: 100%|█████████████████████████████████████████████████████████████████████████████████████████████████████████████████████████████████████████████████████████████████| 3/3 [00:00<00:00, 13.58it/s]\n"
     ]
    }
   ],
   "source": [
    "sim = pheno_simulator(plink_prefix= \"AdjHE/examples/Genotype_files/geno\")"
   ]
  },
  {
   "cell_type": "markdown",
   "id": "e64945c6-a3d4-4ca7-a729-5cca55500d2f",
   "metadata": {
    "tags": []
   },
   "source": [
    "We can than simulate from these genotypes. We need to dictate how many principal components we want to use to describe the ethnicity (npcs), how many phenotypes to simulate (generally this should be one, multivariate phenotypes haven't been implemented yet.), and where the variance for the phenotype should come from (sigma). The elements in sigma correspond to genetic, site, and error unmodeled variances respectively. Simulating phenotypes from sites for Plink data has not been implemented yet and so the second element should always be zero. The corresponding simulated heritability is then the first element over the sum of the first and third elements of sigma."
   ]
  },
  {
   "cell_type": "code",
   "execution_count": 4,
   "id": "0571762e-81c7-4dd2-983b-2f7e265f3fe7",
   "metadata": {
    "tags": []
   },
   "outputs": [
    {
     "name": "stderr",
     "output_type": "stream",
     "text": [
      "/home/christian/anaconda3/envs/datasci/lib/python3.10/site-packages/dask/array/core.py:1711: FutureWarning: The `numpy.may_share_memory` function is not implemented by Dask array. You may want to use the da.map_blocks function or something similar to silence this warning. Your code may stop working in a future release.\n",
      "  warnings.warn(\n",
      "/home/christian/anaconda3/envs/datasci/lib/python3.10/site-packages/dask/array/core.py:1711: FutureWarning: The `numpy.may_share_memory` function is not implemented by Dask array. You may want to use the da.map_blocks function or something similar to silence this warning. Your code may stop working in a future release.\n",
      "  warnings.warn(\n"
     ]
    }
   ],
   "source": [
    "sim.full_sim(sigma = [0.5,0,0.5], phens=1, npcs = 3)"
   ]
  },
  {
   "cell_type": "code",
   "execution_count": 5,
   "id": "3aa476ce-4293-43de-9701-153ac0874042",
   "metadata": {
    "tags": []
   },
   "outputs": [
    {
     "data": {
      "text/html": [
       "<div>\n",
       "<style scoped>\n",
       "    .dataframe tbody tr th:only-of-type {\n",
       "        vertical-align: middle;\n",
       "    }\n",
       "\n",
       "    .dataframe tbody tr th {\n",
       "        vertical-align: top;\n",
       "    }\n",
       "\n",
       "    .dataframe thead th {\n",
       "        text-align: right;\n",
       "    }\n",
       "</style>\n",
       "<table border=\"1\" class=\"dataframe\">\n",
       "  <thead>\n",
       "    <tr style=\"text-align: right;\">\n",
       "      <th></th>\n",
       "      <th>FID</th>\n",
       "      <th>IID</th>\n",
       "      <th>Y</th>\n",
       "      <th>Y1</th>\n",
       "    </tr>\n",
       "  </thead>\n",
       "  <tbody>\n",
       "    <tr>\n",
       "      <th>0</th>\n",
       "      <td>1</td>\n",
       "      <td>1</td>\n",
       "      <td>0.142053</td>\n",
       "      <td>0.052812</td>\n",
       "    </tr>\n",
       "    <tr>\n",
       "      <th>1</th>\n",
       "      <td>2</td>\n",
       "      <td>2</td>\n",
       "      <td>-0.878268</td>\n",
       "      <td>-0.556321</td>\n",
       "    </tr>\n",
       "    <tr>\n",
       "      <th>2</th>\n",
       "      <td>3</td>\n",
       "      <td>3</td>\n",
       "      <td>-0.127713</td>\n",
       "      <td>1.099606</td>\n",
       "    </tr>\n",
       "    <tr>\n",
       "      <th>3</th>\n",
       "      <td>4</td>\n",
       "      <td>4</td>\n",
       "      <td>0.341870</td>\n",
       "      <td>0.476903</td>\n",
       "    </tr>\n",
       "    <tr>\n",
       "      <th>4</th>\n",
       "      <td>5</td>\n",
       "      <td>5</td>\n",
       "      <td>0.620917</td>\n",
       "      <td>0.512185</td>\n",
       "    </tr>\n",
       "    <tr>\n",
       "      <th>...</th>\n",
       "      <td>...</td>\n",
       "      <td>...</td>\n",
       "      <td>...</td>\n",
       "      <td>...</td>\n",
       "    </tr>\n",
       "    <tr>\n",
       "      <th>4995</th>\n",
       "      <td>4996</td>\n",
       "      <td>4996</td>\n",
       "      <td>-0.114192</td>\n",
       "      <td>-0.405264</td>\n",
       "    </tr>\n",
       "    <tr>\n",
       "      <th>4996</th>\n",
       "      <td>4997</td>\n",
       "      <td>4997</td>\n",
       "      <td>0.289557</td>\n",
       "      <td>1.138117</td>\n",
       "    </tr>\n",
       "    <tr>\n",
       "      <th>4997</th>\n",
       "      <td>4998</td>\n",
       "      <td>4998</td>\n",
       "      <td>0.522451</td>\n",
       "      <td>0.195744</td>\n",
       "    </tr>\n",
       "    <tr>\n",
       "      <th>4998</th>\n",
       "      <td>4999</td>\n",
       "      <td>4999</td>\n",
       "      <td>0.616649</td>\n",
       "      <td>0.493129</td>\n",
       "    </tr>\n",
       "    <tr>\n",
       "      <th>4999</th>\n",
       "      <td>5000</td>\n",
       "      <td>5000</td>\n",
       "      <td>0.241011</td>\n",
       "      <td>0.347842</td>\n",
       "    </tr>\n",
       "  </tbody>\n",
       "</table>\n",
       "<p>5000 rows × 4 columns</p>\n",
       "</div>"
      ],
      "text/plain": [
       "       FID   IID         Y        Y1\n",
       "0        1     1  0.142053  0.052812\n",
       "1        2     2 -0.878268 -0.556321\n",
       "2        3     3 -0.127713  1.099606\n",
       "3        4     4  0.341870  0.476903\n",
       "4        5     5  0.620917  0.512185\n",
       "...    ...   ...       ...       ...\n",
       "4995  4996  4996 -0.114192 -0.405264\n",
       "4996  4997  4997  0.289557  1.138117\n",
       "4997  4998  4998  0.522451  0.195744\n",
       "4998  4999  4999  0.616649  0.493129\n",
       "4999  5000  5000  0.241011  0.347842\n",
       "\n",
       "[5000 rows x 4 columns]"
      ]
     },
     "execution_count": 5,
     "metadata": {},
     "output_type": "execute_result"
    }
   ],
   "source": [
    "sim.df"
   ]
  }
 ],
 "metadata": {
  "kernelspec": {
   "display_name": "Python 3 (ipykernel)",
   "language": "python",
   "name": "python3"
  },
  "language_info": {
   "codemirror_mode": {
    "name": "ipython",
    "version": 3
   },
   "file_extension": ".py",
   "mimetype": "text/x-python",
   "name": "python",
   "nbconvert_exporter": "python",
   "pygments_lexer": "ipython3",
   "version": "3.10.9"
  }
 },
 "nbformat": 4,
 "nbformat_minor": 5
}
